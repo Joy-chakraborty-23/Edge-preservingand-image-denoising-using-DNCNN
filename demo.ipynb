import sys
import cv2
import numpy as np
from main import train_pipeline, test_pipeline

# Configuration
DATA_DIR = "/path/to/ilsvrc2012/val"
MODEL_DIR = "/path/to/save/models"
TEST_IMAGES = [
    cv2.imread("lena.png", 0),
    cv2.imread("barbara.png", 0),
    cv2.imread("coco.png", 0)
]

# Training
train_pipeline(DATA_DIR, MODEL_DIR)

# Testing
results = test_pipeline(
    TEST_IMAGES,
    f"{MODEL_DIR}/denoising_model.h5"
)

# Print results
for i, (psnr, ssim) in enumerate(results):
    print(f"Image {i+1}: PSNR={psnr:.2f} dB, SSIM={ssim:.4f}")
